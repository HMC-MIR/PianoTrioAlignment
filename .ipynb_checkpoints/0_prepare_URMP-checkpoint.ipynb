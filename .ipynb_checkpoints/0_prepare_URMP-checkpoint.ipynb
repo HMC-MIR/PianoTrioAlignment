{
 "cells": [
  {
   "cell_type": "code",
   "execution_count": 1,
   "metadata": {},
   "outputs": [],
   "source": [
    "import os\n",
    "from IPython.display import Audio\n",
    "import numpy as np\n",
    "import math\n",
    "import copy\n",
    "from shutil import copyfile\n",
    "import glob\n",
    "import pytsmod as tsm\n",
    "import soundfile as sf "
   ]
  },
  {
   "cell_type": "code",
   "execution_count": null,
   "metadata": {},
   "outputs": [],
   "source": [
    "! pip install pytsmod"
   ]
  },
  {
   "cell_type": "markdown",
   "metadata": {},
   "source": [
    "### Move Necesary Files"
   ]
  },
  {
   "cell_type": "code",
   "execution_count": 2,
   "metadata": {
    "scrolled": true
   },
   "outputs": [],
   "source": [
    "def moveFiles():\n",
    "    path = \"/home/dyang/URMP/Dataset/train\"\n",
    "    pieces = os.listdir(path)\n",
    "    for piece in pieces:\n",
    "        dirpath = os.path.join(path, piece)\n",
    "        audio_files = []\n",
    "        for file in glob.glob(f'{dirpath}/AuSep*.wav'):\n",
    "            audio_files.append(file)\n",
    "        audio_files = sorted(audio_files)\n",
    "        fullmix_audio = glob.glob(f'{dirpath}/AuMix*.wav')[0]\n",
    "        out_dir = '/home/dyang/URMP-clean/data/train'\n",
    "        out_piece_dir = os.path.join(out_dir, piece)\n",
    "        os.makedirs(out_piece_dir,exist_ok=True)\n",
    "        for idx, file in enumerate(audio_files):\n",
    "            copyfile(file, os.path.join(out_piece_dir, f'I{idx}.wav'))\n",
    "        copyfile(fullmix_audio, os.path.join(out_piece_dir, f'Mix{idx}.wav'))\n",
    "        \n",
    "        annot_dir =  os.path.join(dirpath, 'annot1')\n",
    "        fullmix_annot = os.path.join(annot_dir, 'aumix.txt')\n",
    "        annot_files = []\n",
    "        for file in glob.glob(f'{annot_dir}/Notes_*.txt'):\n",
    "            annot_files.append(file)\n",
    "        annot_files = sorted(annot_files)\n",
    "        for idx, file in enumerate(annot_files):\n",
    "            copyfile(file, os.path.join(out_piece_dir, f'I{idx}.txt'))\n",
    "        copyfile(fullmix_annot, os.path.join(out_piece_dir, f'Mix{idx}.txt'))\n",
    "moveFiles()"
   ]
  },
  {
   "cell_type": "markdown",
   "metadata": {},
   "source": [
    "### Time-Stretch Recordings"
   ]
  },
  {
   "cell_type": "code",
   "execution_count": null,
   "metadata": {
    "code_folding": [],
    "scrolled": true
   },
   "outputs": [
    {
     "name": "stdout",
     "output_type": "stream",
     "text": [
      "01_Jupiter_vn_vc\n",
      "02_Sonata_vn_vn\n",
      "03_Dance_fl_cl\n",
      "04_Allegro_fl_fl\n",
      "07_GString_tpt_tbn\n",
      "11_Maria_ob_vc\n",
      "12_Spring_vn_vn_vc\n",
      "15_Surprise_tpt_tpt_tbn\n",
      "16_Surprise_tpt_tpt_sax\n",
      "18_Nocturne_vn_fl_tpt\n",
      "21_Rejouissance_cl_tbn_tba\n",
      "22_Rejouissance_sax_tbn_tba\n",
      "27_King_vn_vn_va_sax\n",
      "28_Fugue_fl_ob_cl_bn\n",
      "29_Fugue_fl_fl_ob_cl\n",
      "33_Elise_tpt_tpt_hn_tbn\n",
      "35_Rondeau_vn_vn_va_db\n",
      "36_Rondeau_vn_vn_va_vc\n",
      "38_Jerusalem_vn_vn_va_vc_db\n",
      "39_Jerusalem_vn_vn_va_sax_db\n"
     ]
    }
   ],
   "source": [
    "def interpolate(data, s_ap, sr):\n",
    "    s_ap = s_ap / sr\n",
    "    new_times = []\n",
    "    for time, idx in data:\n",
    "        time = float(time)\n",
    "        for i in range(3):\n",
    "            if s_ap[0][i+1] > time:\n",
    "                elapsed = time-s_ap[0][i]\n",
    "                slope = (s_ap[1][i+1]-s_ap[1][i])/(s_ap[0][i+1]-s_ap[0][i])\n",
    "                new_time = elapsed*slope+s_ap[1][i]\n",
    "                new_times.append((new_time, idx))\n",
    "                break\n",
    "    return new_times\n",
    "    \n",
    "    \n",
    "def timeWarpFile():\n",
    "    path = \"/home/dyang/URMP-clean/data/train\"\n",
    "    pieces = os.listdir(path)\n",
    "    for piece in pieces:\n",
    "        print(piece)\n",
    "        dirpath = os.path.join(path, piece)\n",
    "        fullmix_annot = glob.glob(dirpath+f'/Mix*.txt')[0]\n",
    "        fullmix_file = glob.glob(dirpath+f'/Mix*.wav')[0]\n",
    "        data = []\n",
    "        with open(fullmix_annot,'r') as f:\n",
    "            for line in f:\n",
    "                data.append(line.strip().split())\n",
    "        audio, sr = sf.read(fullmix_file)\n",
    "        \n",
    "        num_samples = 10\n",
    "        for i in range(num_samples):\n",
    "            tempos = np.exp(np.random.uniform(math.log(0.8),math.log(1.2), 3))\n",
    "            factors = 1/tempos\n",
    "            L = len(audio)\n",
    "            audio = audio.T\n",
    "            s_ap = np.array([[0, L / 3, 2 * L / 3, L], [0, L/3*factors[0], L/3*factors[0]+L/3*factors[1], L/3*factors[0]+L/3*factors[1]+L/3*factors[2]]])\n",
    "            audio_stretched = tsm.phase_vocoder(audio, s_ap)\n",
    "            sf.write(os.path.join(dirpath, f'Vocoder{i}.wav'), audio_stretched, sr)\n",
    "            \n",
    "            audio_stretched = tsm.hptsm(audio, s_ap)\n",
    "            sf.write(os.path.join(dirpath, f'Hybrid{i}.wav'), audio_stretched, sr)\n",
    "            \n",
    "            new_times = interpolate(data, s_ap, sr)\n",
    "            pv_out = open(os.path.join(dirpath, f'Vocoder{i}.txt'), 'w')\n",
    "            hptsm_out = open(os.path.join(dirpath, f'Hybrid{i}.txt'), 'w')\n",
    "            for time, idx in new_times:\n",
    "                print(time, idx, file=pv_out)\n",
    "                print(time, idx, file=hptsm_out)\n",
    "            pv_out.close()\n",
    "            hptsm_out.close()\n",
    "timeWarpFile()"
   ]
  }
 ],
 "metadata": {
  "kernelspec": {
   "display_name": "Python 3",
   "language": "python",
   "name": "python3"
  },
  "language_info": {
   "codemirror_mode": {
    "name": "ipython",
    "version": 3
   },
   "file_extension": ".py",
   "mimetype": "text/x-python",
   "name": "python",
   "nbconvert_exporter": "python",
   "pygments_lexer": "ipython3",
   "version": "3.6.7"
  }
 },
 "nbformat": 4,
 "nbformat_minor": 2
}
