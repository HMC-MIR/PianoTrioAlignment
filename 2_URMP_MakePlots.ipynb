{
 "cells": [
  {
   "cell_type": "code",
   "execution_count": 1,
   "id": "d655ec87",
   "metadata": {},
   "outputs": [],
   "source": [
    "import os\n",
    "import numpy as np\n",
    "import matplotlib.pyplot as plt\n",
    "import seaborn as sns\n",
    "import pickle\n",
    "import pandas as pd\n",
    "import itertools\n",
    "from plotnine import *\n",
    "import glob\n",
    "from pandas.api.types import CategoricalDtype\n",
    "from PIL import Image\n",
    "import math"
   ]
  },
  {
   "cell_type": "code",
   "execution_count": 2,
   "id": "2fa6c670",
   "metadata": {},
   "outputs": [],
   "source": [
    "def get_tolerances(errors, tols = np.arange(0,1,1/1000)):\n",
    "    errors = np.array(errors)\n",
    "    errorRates = []\n",
    "    for tol in tols:\n",
    "        toAdd = np.sum(errors > tol) * 1.0 / len(errors)\n",
    "        errorRates.append(toAdd)\n",
    "    return errorRates"
   ]
  },
  {
   "cell_type": "code",
   "execution_count": 3,
   "id": "c5f62533",
   "metadata": {},
   "outputs": [],
   "source": [
    "def average_tols(system):\n",
    "    path = f'{system}'\n",
    "    tol_dict = {2: [], 3: [], 4: [], 5: []}\n",
    "    for file in os.listdir(path):\n",
    "        with open(f'{path}/{file}', 'rb') as f:\n",
    "            tol_dict[len(file.split('_')) - 2].append(get_tolerances(pickle.load(f)))\n",
    "    return [np.mean(tol_dict[2], axis=0), np.mean(tol_dict[3], axis=0), np.mean(tol_dict[4], axis=0), np.mean(tol_dict[5], axis=0)] "
   ]
  },
  {
   "cell_type": "code",
   "execution_count": 8,
   "id": "1a07023b",
   "metadata": {},
   "outputs": [],
   "source": [
    "def make_df(time):\n",
    "    data = {}\n",
    "    data['Instrument'] = ['Duo'] * 4 + ['Trio'] * 4 + ['Quartet'] * 4 + ['Quintet'] * 4\n",
    "    data['System'] = ['DTW-Chroma', 'SA-Chroma', 'SA-CQT', 'SA-BCQT'] * 4\n",
    "\n",
    "    data['Error'] = []\n",
    "    tolerances = {'DTW-Chroma': [], 'SA-Chroma': [], 'SA-CQT': [], 'SA-BCQT': []}\n",
    "    for system in tolerances.keys():\n",
    "        tolerances[system] = average_tols(system)\n",
    "            \n",
    "    for i in range(4):\n",
    "        data['Error'].append(tolerances['DTW-Chroma'][i][time]*100)\n",
    "        data['Error'].append(tolerances['SA-Chroma'][i][time]*100)\n",
    "        data['Error'].append(tolerances['SA-CQT'][i][time]*100)\n",
    "        data['Error'].append(tolerances['SA-BCQT'][i][time]*100)\n",
    "\n",
    "    df = pd.DataFrame.from_dict(data)\n",
    "    instrument_categories = CategoricalDtype(categories=[\"Duo\", \"Trio\", \"Quartet\", \"Quintet\"], ordered=True)\n",
    "    df.Instrument = df.Instrument.astype(instrument_categories)\n",
    "    system_categories = CategoricalDtype(categories=['DTW-Chroma', 'SA-Chroma', 'SA-CQT', 'SA-BCQT'], ordered=True)\n",
    "    df.System = df.System.astype(system_categories)\n",
    "    \n",
    "    return df"
   ]
  },
  {
   "cell_type": "code",
   "execution_count": 9,
   "id": "cf58962c",
   "metadata": {
    "scrolled": true
   },
   "outputs": [],
   "source": [
    "df = make_df(200)\n",
    "colors = [\"#00BA38\",  \"#f8766d\", \"#619CFF\", \"#ffa500\"]\n",
    "ms100_df = make_df(100)\n",
    "ms400_df = make_df(400)"
   ]
  },
  {
   "cell_type": "code",
   "execution_count": 10,
   "id": "ce11fa91",
   "metadata": {},
   "outputs": [
    {
     "name": "stderr",
     "output_type": "stream",
     "text": [
      "/home/ibukey/anaconda3/envs/mir/lib/python3.7/site-packages/plotnine/ggplot.py:721: PlotnineWarning: Saving 6.4 x 4.8 in image.\n",
      "/home/ibukey/anaconda3/envs/mir/lib/python3.7/site-packages/plotnine/ggplot.py:722: PlotnineWarning: Filename: ./URMPTest-seg.png\n"
     ]
    }
   ],
   "source": [
    "(ggplot(df, aes(x=\"System\", y=\"Error\", fill=\"System\")) +\n",
    "    geom_bar(width = 0.8, position=position_dodge2(preserve='single', width=1), stat='identity') +\n",
    "    scale_y_continuous(expand = [0, 0], limits = [0, 85]) +\n",
    "    scale_fill_manual(values=colors) +\n",
    "    geom_crossbar(ms100_df, aes(ymin=\"Error\", ymax=\"Error\")) +\n",
    "    geom_crossbar(ms400_df, aes(ymin=\"Error\", ymax=\"Error\")) +\n",
    "    facet_grid('. ~ Instrument') +\n",
    "    theme_bw() + \n",
    "    labs(y = \"Error Rate\") +\n",
    "    theme(dpi=300, legend_position=(0.5, 0.03), legend_direction=\"horizontal\", legend_title_align='bottom', \n",
    "            legend_background=element_blank(),\n",
    "            legend_title = element_text(size=10),\n",
    "            strip_background = element_rect(fill=\"#ebebeb\"),\n",
    "            plot_title = element_text(size=14, colour='black', margin={'b': 12}),\n",
    "            axis_text_x = element_blank(),\n",
    "            axis_ticks_major_x = element_blank(),\n",
    "            axis_text_y = element_text(size = 12, colour='black'), \n",
    "            axis_title_x = element_blank(),\n",
    "            axis_title_y = element_text(size = 12.0, margin={'r': 6.0})) +\n",
    "    guides(fill=guide_legend(title=\"System:\", title_position='left', label_position=\"right\", override_aes = {'size': 0}))).save('./URMP.png')\n",
    "\n"
   ]
  },
  {
   "cell_type": "code",
   "execution_count": 1,
   "id": "2baef028",
   "metadata": {},
   "outputs": [],
   "source": [
    "Image.open('URMP.png')"
   ]
  },
  {
   "cell_type": "code",
   "execution_count": null,
   "id": "ac2ddddd",
   "metadata": {},
   "outputs": [],
   "source": []
  }
 ],
 "metadata": {
  "kernelspec": {
   "display_name": "Python 3 (ipykernel)",
   "language": "python",
   "name": "python3"
  },
  "language_info": {
   "codemirror_mode": {
    "name": "ipython",
    "version": 3
   },
   "file_extension": ".py",
   "mimetype": "text/x-python",
   "name": "python",
   "nbconvert_exporter": "python",
   "pygments_lexer": "ipython3",
   "version": "3.7.13"
  }
 },
 "nbformat": 4,
 "nbformat_minor": 5
}
