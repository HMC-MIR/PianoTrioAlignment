{
 "cells": [
  {
   "cell_type": "code",
   "execution_count": 1,
   "id": "4dfb1d58",
   "metadata": {},
   "outputs": [],
   "source": [
    "import os\n",
    "from IPython.display import Audio\n",
    "import numpy as np\n",
    "import math\n",
    "import copy\n",
    "from shutil import copyfile\n",
    "import glob\n",
    "import pytsmod as tsm\n",
    "import soundfile as sf "
   ]
  },
  {
   "cell_type": "code",
   "execution_count": null,
   "id": "e574fefc",
   "metadata": {},
   "outputs": [],
   "source": [
    "np.random.seed(42)"
   ]
  },
  {
   "cell_type": "code",
   "execution_count": null,
   "id": "230ee5d1",
   "metadata": {},
   "outputs": [],
   "source": [
    "def moveFiles():\n",
    "    path = \"/mnt/data0/Projects/PianoTrioAlign/URMP/Dataset/test\"\n",
    "    pieces = os.listdir(path)\n",
    "\n",
    "    for piece in pieces:\n",
    "        dirpath = os.path.join(path, piece)\n",
    "        audio_files = []\n",
    "        for file in glob.glob(f'{dirpath}/AuSep*.wav'):\n",
    "            audio_files.append(file)\n",
    "        audio_files = sorted(audio_files)\n",
    "        fullmix_audio = glob.glob(f'{dirpath}/AuMix*.wav')[0]\n",
    "        out_dir = '/mnt/data0/Projects/PianoTrioAlign/PianoTrioAlignment/URMP-clean/data/test'\n",
    "        out_piece_dir = os.path.join(out_dir, piece)\n",
    "        os.makedirs(out_piece_dir,exist_ok=True)\n",
    "        for idx, file in enumerate(audio_files):\n",
    "            copyfile(file, os.path.join(out_piece_dir, f'I{idx}.wav'))\n",
    "        copyfile(fullmix_audio, os.path.join(out_piece_dir, f'Mix{idx}.wav'))\n",
    "        \n",
    "        annot_dir =  os.path.join(dirpath, 'annot1')\n",
    "        fullmix_annot = os.path.join(annot_dir, 'aumix.txt')\n",
    "        annot_files = []\n",
    "        for file in glob.glob(f'{annot_dir}/Notes_*.txt'):\n",
    "            annot_files.append(file)\n",
    "        annot_files = sorted(annot_files)\n",
    "        for idx, file in enumerate(annot_files):\n",
    "            copyfile(file, os.path.join(out_piece_dir, f'I{idx}.txt'))\n",
    "        copyfile(fullmix_annot, os.path.join(out_piece_dir, f'Mix{idx}.txt'))\n",
    "moveFiles()"
   ]
  },
  {
   "cell_type": "code",
   "execution_count": null,
   "id": "87eaeed4",
   "metadata": {},
   "outputs": [],
   "source": [
    "def interpolate(data, s_ap, sr):\n",
    "    s_ap = s_ap / sr\n",
    "    new_times = []\n",
    "    for time, idx in data:\n",
    "        time = float(time)\n",
    "        for i in range(3):\n",
    "            if s_ap[0][i+1] > time:\n",
    "                elapsed = time-s_ap[0][i]\n",
    "                slope = (s_ap[1][i+1]-s_ap[1][i])/(s_ap[0][i+1]-s_ap[0][i])\n",
    "                new_time = elapsed*slope+s_ap[1][i]\n",
    "                new_times.append((new_time, idx))\n",
    "                break\n",
    "    return new_times\n",
    "\n",
    "\n",
    "def timeWarpFile():\n",
    "    path = \"/mnt/data0/Projects/PianoTrioAlign/PianoTrioAlignment/URMP-clean/data/test\"\n",
    "    pieces = os.listdir(path)\n",
    "    for piece in pieces:\n",
    "        print(piece)\n",
    "        dirpath = os.path.join(path, piece)\n",
    "        fullmix_annot = glob.glob(dirpath+f'/Mix*.txt')[0]\n",
    "        fullmix_file = glob.glob(dirpath+f'/Mix*.wav')[0]\n",
    "        data = []\n",
    "        with open(fullmix_annot,'r') as f:\n",
    "            for line in f:\n",
    "                data.append(line.strip().split())\n",
    "        audio, sr = sf.read(fullmix_file)\n",
    "        \n",
    "        num_samples = 10\n",
    "        for i in range(num_samples):\n",
    "            tempos = np.exp(np.random.uniform(math.log(0.8),math.log(1.2), 3))\n",
    "            factors = 1/tempos\n",
    "            L = len(audio)\n",
    "            audio = audio.T\n",
    "            s_ap = np.array([[0, L / 3, 2 * L / 3, L], [0, L/3*factors[0], L/3*factors[0]+L/3*factors[1], L/3*factors[0]+L/3*factors[1]+L/3*factors[2]]])\n",
    "            audio_stretched = tsm.phase_vocoder(audio, s_ap)\n",
    "            sf.write(os.path.join(dirpath, f'Vocoder{i}.wav'), audio_stretched, sr)\n",
    "        \n",
    "            \n",
    "            new_times = interpolate(data, s_ap, sr)\n",
    "            pv_out = open(os.path.join(dirpath, f'Vocoder{i}.txt'), 'w')\n",
    "\n",
    "            for time, idx in new_times:\n",
    "                print(time, idx, file=pv_out)\n",
    "\n",
    "            pv_out.close()\n",
    "\n",
    "timeWarpFile()"
   ]
  },
  {
   "cell_type": "code",
   "execution_count": null,
   "id": "2607d70b",
   "metadata": {},
   "outputs": [],
   "source": []
  }
 ],
 "metadata": {
  "kernelspec": {
   "display_name": "Python 3 (ipykernel)",
   "language": "python",
   "name": "python3"
  },
  "language_info": {
   "codemirror_mode": {
    "name": "ipython",
    "version": 3
   },
   "file_extension": ".py",
   "mimetype": "text/x-python",
   "name": "python",
   "nbconvert_exporter": "python",
   "pygments_lexer": "ipython3",
   "version": "3.9.12"
  }
 },
 "nbformat": 4,
 "nbformat_minor": 5
}
