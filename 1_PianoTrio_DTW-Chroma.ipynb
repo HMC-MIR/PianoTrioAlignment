{
 "cells": [
  {
   "cell_type": "code",
   "execution_count": null,
   "metadata": {},
   "outputs": [],
   "source": [
    "%matplotlib inline\n",
    "%load_ext Cython"
   ]
  },
  {
   "cell_type": "code",
   "execution_count": null,
   "metadata": {},
   "outputs": [],
   "source": [
    "import numpy as np\n",
    "import matplotlib.pyplot as plt\n",
    "import IPython.display as ipd\n",
    "import pickle\n",
    "import librosa as lb\n",
    "import librosa.display\n",
    "import time\n",
    "import scipy\n",
    "import seaborn as sns\n",
    "import os\n",
    "import multiprocessing\n",
    "from scipy.spatial.distance import cdist\n",
    "import pandas as pd"
   ]
  },
  {
   "cell_type": "code",
   "execution_count": null,
   "metadata": {},
   "outputs": [],
   "source": [
    "%%cython\n",
    "import numpy as np\n",
    "cimport numpy as np\n",
    "cimport cython\n",
    "\n",
    "import sys\n",
    "import time\n",
    "\n",
    "\n",
    "DTYPE_INT32 = np.int32\n",
    "ctypedef np.int32_t DTYPE_INT32_t\n",
    "\n",
    "DTYPE_FLOAT = np.float64\n",
    "ctypedef np.float64_t DTYPE_FLOAT_t\n",
    "\n",
    "cdef DTYPE_FLOAT_t MAX_FLOAT = float('inf')\n",
    "\n",
    "# careful, without bounds checking can mess up memory - also can't use negative indices I think (like x[-1])\n",
    "@cython.boundscheck(False) # turn off bounds-checking for entire function\n",
    "def DTW_Cost_To_AccumCostAndSteps(Cin, parameter):\n",
    "    '''\n",
    "    Inputs\n",
    "        C: The cost Matrix\n",
    "    '''\n",
    "\n",
    "\n",
    "    '''\n",
    "    Section for checking and catching errors in the inputs\n",
    "    '''\n",
    "\n",
    "    cdef np.ndarray[DTYPE_FLOAT_t, ndim=2] C\n",
    "    try:\n",
    "        C = np.array(Cin, dtype=DTYPE_FLOAT)\n",
    "    except TypeError:\n",
    "        print(bcolors.FAIL + \"FAILURE: The type of the cost matrix is wrong - please pass in a 2-d numpy array\" + bcolors.ENDC)\n",
    "        return [-1, -1, -1]\n",
    "    except ValueError:\n",
    "        print(bcolors.FAIL + \"FAILURE: The type of the elements in the cost matrix is wrong - please have each element be a float (perhaps you passed in a matrix of ints?)\" + bcolors.ENDC)\n",
    "        return [-1, -1, -1]\n",
    "\n",
    "    cdef np.ndarray[np.uint32_t, ndim=1] dn\n",
    "    cdef np.ndarray[np.uint32_t, ndim=1] dm\n",
    "    cdef np.ndarray[DTYPE_FLOAT_t, ndim=1] dw\n",
    "    # make sure dn, dm, and dw are setup\n",
    "    # dn loading and exception handling\n",
    "    if ('dn'  in parameter.keys()):\n",
    "        try:\n",
    "\n",
    "            dn = np.array(parameter['dn'], dtype=np.uint32)\n",
    "        except TypeError:\n",
    "            print(bcolors.FAIL + \"FAILURE: The type of dn (row steps) is wrong - please pass in a 1-d numpy array that holds uint32s\" + bcolors.ENDC)\n",
    "            return [-1, -1, -1]\n",
    "        except ValueError:\n",
    "            print(bcolors.FAIL + \"The type of the elements in dn (row steps) is wrong - please have each element be a uint32 (perhaps you passed a long?). You can specify this when making a numpy array like: np.array([1,2,3],dtype=np.uint32)\" + bcolors.ENDC)\n",
    "            return [-1, -1, -1]\n",
    "    else:\n",
    "        dn = np.array([1, 1, 0], dtype=np.uint32)\n",
    "    # dm loading and exception handling\n",
    "    if 'dm'  in parameter.keys():\n",
    "        try:\n",
    "            dm = np.array(parameter['dm'], dtype=np.uint32)\n",
    "        except TypeError:\n",
    "            print(bcolors.FAIL + \"FAILURE: The type of dm (col steps) is wrong - please pass in a 1-d numpy array that holds uint32s\" + bcolors.ENDC)\n",
    "            return [-1, -1, -1]\n",
    "        except ValueError:\n",
    "            print(bcolors.FAIL + \"FAILURE: The type of the elements in dm (col steps) is wrong - please have each element be a uint32 (perhaps you passed a long?). You can specify this when making a numpy array like: np.array([1,2,3],dtype=np.uint32)\" + bcolors.ENDC)\n",
    "            return [-1, -1, -1]\n",
    "    else:\n",
    "        print(bcolors.FAIL + \"dm (col steps) was not passed in (gave default value [1,0,1]) \" + bcolors.ENDC)\n",
    "        dm = np.array([1, 0, 1], dtype=np.uint32)\n",
    "    # dw loading and exception handling\n",
    "    if 'dw'  in parameter.keys():\n",
    "        try:\n",
    "            dw = np.array(parameter['dw'], dtype=DTYPE_FLOAT)\n",
    "        except TypeError:\n",
    "            print(bcolors.FAIL + \"FAILURE: The type of dw (step weights) is wrong - please pass in a 1-d numpy array that holds floats\" + bcolors.ENDC)\n",
    "            return [-1, -1, -1]\n",
    "        except ValueError:\n",
    "            print(bcolors.FAIL + \"FAILURE:The type of the elements in dw (step weights) is wrong - please have each element be a float (perhaps you passed ints or a long?). You can specify this when making a numpy array like: np.array([1,2,3],dtype=np.float64)\" + bcolors.ENDC)\n",
    "            return [-1, -1, -1]\n",
    "    else:\n",
    "        dw = np.array([1, 1, 1], dtype=DTYPE_FLOAT)\n",
    "        print(bcolors.FAIL + \"dw (step weights) was not passed in (gave default value [1,1,1]) \" + bcolors.ENDC)\n",
    "\n",
    "    \n",
    "    '''\n",
    "    Section where types are given to the variables we're going to use \n",
    "    '''\n",
    "    # create matrices to store our results (D and E)\n",
    "    cdef DTYPE_INT32_t numRows = C.shape[0] # only works with np arrays, use np.shape(x) will work on lists? want to force to use np though?\n",
    "    cdef DTYPE_INT32_t numCols = C.shape[1]\n",
    "    cdef DTYPE_INT32_t numDifSteps = np.size(dw)\n",
    "\n",
    "    cdef unsigned int maxRowStep = max(dn)\n",
    "    cdef unsigned int maxColStep = max(dm)\n",
    "\n",
    "    cdef np.ndarray[np.uint32_t, ndim=2] steps = np.zeros((numRows,numCols), dtype=np.uint32)\n",
    "    cdef np.ndarray[DTYPE_FLOAT_t, ndim=2] accumCost = np.ones((maxRowStep + numRows, maxColStep + numCols), dtype=DTYPE_FLOAT) * MAX_FLOAT\n",
    "\n",
    "    cdef DTYPE_FLOAT_t bestCost\n",
    "    cdef DTYPE_INT32_t bestCostIndex\n",
    "    cdef DTYPE_FLOAT_t costForStep\n",
    "    cdef unsigned int row, col\n",
    "    cdef unsigned int stepIndex\n",
    "\n",
    "    '''\n",
    "    The start of the actual algorithm, now that all our variables are set up\n",
    "    '''\n",
    "    # initializing the cost matrix - depends on whether its subsequence DTW\n",
    "    # essentially allow us to hop on the bottom anywhere (so could start partway through one of the signals)\n",
    "    if parameter['SubSequence']:\n",
    "        for col in range(numCols):\n",
    "            accumCost[maxRowStep, col + maxColStep] = C[0, col]\n",
    "    else:\n",
    "        accumCost[maxRowStep, maxColStep] = C[0,0]\n",
    "\n",
    "    # filling the accumulated cost matrix\n",
    "    for row in range(maxRowStep, numRows + maxRowStep, 1):\n",
    "        for col in range(maxColStep, numCols + maxColStep, 1):\n",
    "            bestCost = accumCost[<unsigned int>row, <unsigned int>col] # initialize with what's there - so if is an entry point, then can start low\n",
    "            bestCostIndex = 0\n",
    "            # go through each step, find the best one\n",
    "            for stepIndex in range(numDifSteps):\n",
    "                #costForStep = accumCost[<unsigned int>(row - dn[<unsigned int>(stepIndex)]), <unsigned int>(col - dm[<unsigned int>(stepIndex)])] + dw[<unsigned int>(stepIndex)] * C[<unsigned int>(row - maxRowStep), <unsigned int>(col - maxColStep)]\n",
    "                costForStep = accumCost[<unsigned int>((row - dn[(stepIndex)])), <unsigned int>((col - dm[(stepIndex)]))] + dw[stepIndex] * C[<unsigned int>(row - maxRowStep), <unsigned int>(col - maxColStep)]\n",
    "                if costForStep < bestCost:\n",
    "                    bestCost = costForStep\n",
    "                    bestCostIndex = stepIndex\n",
    "            # save the best cost and best cost index\n",
    "            accumCost[row, col] = bestCost\n",
    "            steps[<unsigned int>(row - maxRowStep), <unsigned int>(col - maxColStep)] = bestCostIndex\n",
    "\n",
    "    # return the accumulated cost along with the matrix of steps taken to achieve that cost\n",
    "    return [accumCost[maxRowStep:, maxColStep:], steps]\n",
    "\n",
    "@cython.boundscheck(False) # turn off bounds-checking for entire function\n",
    "def DTW_GetPath(np.ndarray[DTYPE_FLOAT_t, ndim=2] accumCost, np.ndarray[np.uint32_t, ndim=2] stepsForCost, parameter):\n",
    "    '''\n",
    "\n",
    "    Parameter should have: 'dn', 'dm', 'dw', 'SubSequence'\n",
    "    '''\n",
    "\n",
    "    cdef np.ndarray[unsigned int, ndim=1] dn\n",
    "    cdef np.ndarray[unsigned int, ndim=1] dm\n",
    "    cdef np.uint8_t subseq\n",
    "    # make sure dn, dm, and dw are setup\n",
    "    if ('dn'  in parameter.keys()):\n",
    "        dn = parameter['dn']\n",
    "    else:\n",
    "        dn = np.array([1, 1, 0], dtype=DTYPE_INT32)\n",
    "    if 'dm'  in parameter.keys():\n",
    "        dm = parameter['dm']\n",
    "    else:\n",
    "        dm = np.array([1, 0, 1], dtype=DTYPE_INT32)\n",
    "    if 'SubSequence' in parameter.keys():\n",
    "        subseq = parameter['SubSequence']\n",
    "    else:\n",
    "        subseq = 0\n",
    "\n",
    "    cdef np.uint32_t numRows\n",
    "    cdef np.uint32_t numCols\n",
    "    cdef np.uint32_t curRow\n",
    "    cdef np.uint32_t curCol\n",
    "    cdef np.uint32_t endCol\n",
    "    cdef DTYPE_FLOAT_t endCost\n",
    "\n",
    "    numRows = accumCost.shape[0]\n",
    "    numCols = accumCost.shape[1]\n",
    "\n",
    "    # either start at the far corner (non sub-sequence)\n",
    "    # or start at the lowest cost entry in the last row (sub-sequence)\n",
    "    # where all of the signal along the row has been used, but only a \n",
    "    # sub-sequence of the signal along the columns has to be used\n",
    "    curRow = numRows - 1\n",
    "    if subseq:\n",
    "        curCol = np.argmin(accumCost[numRows - 1, :])\n",
    "    else:\n",
    "        curCol = numCols - 1\n",
    "\n",
    "    endCol = curCol\n",
    "    endCost = accumCost[curRow, curCol]\n",
    "\n",
    "    cdef np.uint32_t curRowStep\n",
    "    cdef np.uint32_t curColStep\n",
    "    cdef np.uint32_t curStepIndex\n",
    "\n",
    "\n",
    "    cdef np.ndarray[np.uint32_t, ndim=2] path = np.zeros((2, numRows + numCols), dtype=np.uint32) # make as large as could need, then chop at the end\n",
    "    path[0, 0] = curRow\n",
    "    path[1, 0] = curCol\n",
    "\n",
    "    cdef np.uint32_t stepsInPath = 1 # starts at one, we add in one before looping\n",
    "    cdef np.uint32_t stepIndex = 0\n",
    "    cdef np.int8_t done = (subseq and curRow == 0) or (curRow == 0 and curCol == 0)\n",
    "    while not done:\n",
    "        if accumCost[curRow, curCol] == MAX_FLOAT:\n",
    "            print('A path is not possible')\n",
    "            break\n",
    "\n",
    "        # you're done if you've made it to the bottom left (non sub-sequence)\n",
    "        # or just the bottom (sub-sequence)\n",
    "        # find the step size\n",
    "        curStepIndex = stepsForCost[curRow, curCol]\n",
    "        curRowStep = dn[curStepIndex]\n",
    "        curColStep = dm[curStepIndex]\n",
    "        # backtrack by 1 step\n",
    "        curRow = curRow - curRowStep\n",
    "        curCol = curCol - curColStep\n",
    "        # add your new location onto the path\n",
    "        path[0, stepsInPath] = curRow\n",
    "        path[1, stepsInPath] = curCol\n",
    "        stepsInPath = stepsInPath + 1\n",
    "        # check to see if you're done\n",
    "        done = (subseq and curRow == 0) or (curRow == 0 and curCol == 0)\n",
    "\n",
    "    # reverse the path (a matrix with two rows) and return it\n",
    "    return [np.fliplr(path[:, 0:stepsInPath]), endCol, endCost]\n",
    "\n",
    "class bcolors:\n",
    "    HEADER = '\\033[95m'\n",
    "    OKBLUE = '\\033[94m'\n",
    "    OKGREEN = '\\033[92m'\n",
    "    WARNING = '\\033[93m'\n",
    "    FAIL = '\\033[91m'\n",
    "    ENDC = '\\033[0m'\n",
    "    BOLD = '\\033[1m'\n",
    "    UNDERLINE = '\\033[4m'"
   ]
  },
  {
   "cell_type": "code",
   "execution_count": null,
   "metadata": {},
   "outputs": [],
   "source": [
    "def cosine_distance(X,Y):\n",
    "    cost = cdist(X,Y,'cosine')\n",
    "    return cost"
   ]
  },
  {
   "cell_type": "code",
   "execution_count": null,
   "metadata": {},
   "outputs": [],
   "source": [
    "def align_chromas(query, ref, steps = [1,1,1,2,2,1], weights = [2, 3, 3], optimized = True):\n",
    "    if optimized:\n",
    "        # set params\n",
    "        assert len(steps) % 2 == 0, \"The length of steps must be even.\"\n",
    "        dn = np.array(steps[::2], dtype=np.uint32)\n",
    "        dm = np.array(steps[1::2], dtype=np.uint32)\n",
    "        dw = weights\n",
    "        subsequence = True\n",
    "        parameter = {'dn': dn, 'dm': dm, 'dw': dw, 'SubSequence': subsequence}\n",
    "\n",
    "        # Compute cost matrix\n",
    "        cost = cosine_distance(query.T, ref.T)\n",
    "\n",
    "        # DTW\n",
    "        [D, s] = DTW_Cost_To_AccumCostAndSteps(cost, parameter)\n",
    "        [wp, endCol, endCost] = DTW_GetPath(D, s, parameter)\n",
    "\n",
    "        # Reformat the output\n",
    "        wp = wp.T[::-1]\n",
    "    else: # librosa implementation\n",
    "        steps = np.array(steps).reshape((-1,2))\n",
    "        D, wp = lb.sequence.dtw(query, ref, step_sizes_sigma = steps, weights_mul = weights, subseq = True, metric = 'cosine')\n",
    "    return D, wp"
   ]
  },
  {
   "cell_type": "code",
   "execution_count": null,
   "metadata": {},
   "outputs": [],
   "source": [
    "def get_chroma_features(audio,sr=22050,H=512,N=2048, cens=False):\n",
    "    if not cens:\n",
    "        chroma = lb.feature.chroma_stft(y=audio, sr=sr, norm=2, hop_length=H, n_fft=N)\n",
    "    else:\n",
    "        chroma = lb.feature.chroma_cens(y=audio, sr=sr, norm=2, hop_length=H, n_fft=N)\n",
    "    return chroma"
   ]
  },
  {
   "cell_type": "code",
   "execution_count": null,
   "metadata": {},
   "outputs": [],
   "source": [
    "def get_audio(path):\n",
    "    audio, sr = lb.core.load(path)\n",
    "    return audio"
   ]
  },
  {
   "cell_type": "code",
   "execution_count": null,
   "metadata": {},
   "outputs": [],
   "source": [
    "piano3_audio = get_audio('data/Audio/piano/piano3.m4a')\n",
    "violin3_audio = get_audio('data/Audio/violin/violin3.mp3')\n",
    "cello3_audio = get_audio('data/Audio/cello/cello3.mp3')\n",
    "piano4_audio = get_audio(\"data/Audio/piano/piano4.m4a\")\n",
    "violin4_audio = get_audio('data/Audio/violin/violin4.mp3')\n",
    "cello4_audio = get_audio('data/Audio/cello/cello4.mp3')\n",
    "fullmix_audio_3 = get_audio('data/Audio/fullmix/fullmix3.mp3')\n",
    "fullmix_audio_4 = get_audio('data/Audio/fullmix/fullmix4.mp3')"
   ]
  },
  {
   "cell_type": "markdown",
   "metadata": {},
   "source": [
    "### Generate chroma features"
   ]
  },
  {
   "cell_type": "code",
   "execution_count": null,
   "metadata": {},
   "outputs": [],
   "source": [
    "piano3_chroma = get_chroma_features(piano3_audio)\n",
    "violin3_chroma = get_chroma_features(violin3_audio)\n",
    "cello3_chroma = get_chroma_features(cello3_audio)\n",
    "piano4_chroma = get_chroma_features(piano4_audio)\n",
    "violin4_chroma = get_chroma_features(violin4_audio)\n",
    "cello4_chroma = get_chroma_features(cello4_audio)\n",
    "fullmix_chroma_3 = get_chroma_features(fullmix_audio_3)\n",
    "fullmix_chroma_4 = get_chroma_features(fullmix_audio_4)"
   ]
  },
  {
   "cell_type": "code",
   "execution_count": null,
   "metadata": {},
   "outputs": [],
   "source": [
    "idx = np.where(~fullmix_chroma_3.any(axis=0))[0]"
   ]
  },
  {
   "cell_type": "code",
   "execution_count": null,
   "metadata": {},
   "outputs": [],
   "source": [
    "padding = np.full((fullmix_chroma_3.shape[0]), 1e-9)"
   ]
  },
  {
   "cell_type": "code",
   "execution_count": null,
   "metadata": {},
   "outputs": [],
   "source": [
    "for i in idx:\n",
    "    fullmix_chroma_3[:, i] = padding"
   ]
  },
  {
   "cell_type": "code",
   "execution_count": null,
   "metadata": {},
   "outputs": [],
   "source": [
    "idx = np.where(~fullmix_chroma_4.any(axis=0))[0]"
   ]
  },
  {
   "cell_type": "code",
   "execution_count": null,
   "metadata": {},
   "outputs": [],
   "source": [
    "padding = np.full((fullmix_chroma_4.shape[0]), 1e-9)"
   ]
  },
  {
   "cell_type": "code",
   "execution_count": null,
   "metadata": {},
   "outputs": [],
   "source": [
    "for i in idx:\n",
    "    fullmix_chroma_4[:, i] = padding"
   ]
  },
  {
   "cell_type": "markdown",
   "metadata": {},
   "source": [
    "### Align chroma features using DTW"
   ]
  },
  {
   "cell_type": "code",
   "execution_count": null,
   "metadata": {},
   "outputs": [],
   "source": [
    "piano3_fullmix_3 = align_chromas(piano3_chroma, fullmix_chroma_3)\n",
    "violin3_fullmix_3 = align_chromas(violin3_chroma, fullmix_chroma_3)\n",
    "cello3_fullmix_3 = align_chromas(cello3_chroma, fullmix_chroma_3)"
   ]
  },
  {
   "cell_type": "code",
   "execution_count": null,
   "metadata": {},
   "outputs": [],
   "source": [
    "piano3_fullmix_4 = align_chromas(piano3_chroma, fullmix_chroma_4)\n",
    "violin3_fullmix_4 = align_chromas(violin3_chroma, fullmix_chroma_4)\n",
    "cello3_fullmix_4 = align_chromas(cello3_chroma, fullmix_chroma_4)"
   ]
  },
  {
   "cell_type": "code",
   "execution_count": null,
   "metadata": {},
   "outputs": [],
   "source": [
    "piano4_fullmix_3 = align_chromas(piano4_chroma, fullmix_chroma_3)\n",
    "violin4_fullmix_3 = align_chromas(violin4_chroma, fullmix_chroma_3)\n",
    "cello4_fullmix_3 = align_chromas(cello4_chroma, fullmix_chroma_3)"
   ]
  },
  {
   "cell_type": "code",
   "execution_count": null,
   "metadata": {},
   "outputs": [],
   "source": [
    "piano4_fullmix_4 = align_chromas(piano4_chroma, fullmix_chroma_4)\n",
    "violin4_fullmix_4 = align_chromas(violin4_chroma, fullmix_chroma_4)\n",
    "cello4_fullmix_4 = align_chromas(cello4_chroma, fullmix_chroma_4)"
   ]
  },
  {
   "cell_type": "code",
   "execution_count": null,
   "metadata": {},
   "outputs": [],
   "source": [
    "fullmix_fullmix = align_chromas(fullmix_chroma_3, fullmix_chroma_4)"
   ]
  },
  {
   "cell_type": "code",
   "execution_count": null,
   "metadata": {},
   "outputs": [],
   "source": [
    "def frame_to_time(frame, hop_length = 512, sr = 22050):\n",
    "    return frame * hop_length / sr"
   ]
  },
  {
   "cell_type": "code",
   "execution_count": null,
   "metadata": {},
   "outputs": [],
   "source": [
    "def time_to_frame(time, hop_length = 512, sr = 22050):\n",
    "    return time * sr / hop_length"
   ]
  },
  {
   "cell_type": "code",
   "execution_count": null,
   "metadata": {},
   "outputs": [],
   "source": [
    "def calculateErrors(data, annotfile, gtfile, hop_length = 512, sr = 22050, debug = False):\n",
    "    wp = np.array(sorted(data, key = lambda x: x[0]))\n",
    "    query_preds = wp[:, 0]\n",
    "    ref_preds = wp[:, 1]\n",
    "    query_to_ref = np.interp(list(range(max(query_preds[-1], ref_preds[-1]) + 1)), query_preds, ref_preds)\n",
    "\n",
    "    data_gt = np.genfromtxt(gtfile, delimiter=',')\n",
    "    gt_mapping = {}\n",
    "    for time, idx in data_gt:\n",
    "        gt_mapping[idx] = time\n",
    "        \n",
    "    data_annot = np.genfromtxt(annotfile, delimiter=',')\n",
    "    errors = []\n",
    "    clicks = []\n",
    "    idxs = []\n",
    "    for time, idx in data_annot:\n",
    "        frame = int(np.round(time_to_frame(time)))\n",
    "        ref_frame = query_to_ref[frame]\n",
    "        pred_ref_time = frame_to_time(ref_frame)\n",
    "        if debug:\n",
    "            clicks.append(pred_ref_time)\n",
    "        if idx in gt_mapping:\n",
    "            error = np.abs(pred_ref_time - gt_mapping[idx])\n",
    "            idxs.append(idx)\n",
    "            errors.append(error)\n",
    "    if debug:\n",
    "        return errors, clicks\n",
    "    return errors"
   ]
  },
  {
   "cell_type": "code",
   "execution_count": null,
   "metadata": {},
   "outputs": [],
   "source": [
    "annot_path = './data/Annotations/merged/merged/'\n",
    "\n",
    "piano3_fullmix_3_errors = calculateErrors(piano3_fullmix_3[1], annot_path+'piano3.csv', annot_path+'fullmix3.csv')\n",
    "violin3_fullmix_3_errors = calculateErrors(violin3_fullmix_3[1], annot_path+'violin3.csv', annot_path+'fullmix3.csv')\n",
    "cello3_fullmix_3_errors = calculateErrors(cello3_fullmix_3[1], annot_path+'cello3.csv', annot_path+'fullmix3.csv')\n",
    "\n",
    "piano4_fullmix_3_errors = calculateErrors(piano4_fullmix_3[1], annot_path+'piano4.csv', annot_path+'fullmix3.csv')\n",
    "violin4_fullmix_3_errors = calculateErrors(violin4_fullmix_3[1], annot_path+'violin4.csv', annot_path+'fullmix3.csv')\n",
    "cello4_fullmix_3_errors = calculateErrors(cello4_fullmix_3[1], annot_path+'cello4.csv', annot_path+'fullmix3.csv')\n",
    "\n",
    "piano3_fullmix_4_errors = calculateErrors(piano3_fullmix_4[1], annot_path+'piano3.csv', annot_path+'fullmix4.csv')\n",
    "violin3_fullmix_4_errors = calculateErrors(violin3_fullmix_4[1], annot_path+'violin3.csv', annot_path+'fullmix4.csv')\n",
    "cello3_fullmix_4_errors = calculateErrors(cello3_fullmix_4[1], annot_path+'cello3.csv', annot_path+'fullmix4.csv')\n",
    "\n",
    "piano4_fullmix_4_errors = calculateErrors(piano4_fullmix_4[1], annot_path+'piano4.csv', annot_path+'fullmix4.csv')\n",
    "violin4_fullmix_4_errors = calculateErrors(violin4_fullmix_4[1], annot_path+'violin4.csv', annot_path+'fullmix4.csv')\n",
    "cello4_fullmix_4_errors = calculateErrors(cello4_fullmix_4[1], annot_path+'cello4.csv', annot_path+'fullmix4.csv')\n",
    "\n",
    "fullmixes_errors = calculateErrors(fullmix_fullmix[1], annot_path+'fullmix3.csv', annot_path+'fullmix4.csv')"
   ]
  },
  {
   "cell_type": "code",
   "execution_count": null,
   "metadata": {},
   "outputs": [],
   "source": [
    "def get_tolerances(errors, tols):\n",
    "    errors = np.array(errors)\n",
    "    errorRates = []\n",
    "    for tol in tols:\n",
    "        toAdd = np.sum(errors > tol) * 1.0 / len(errors)\n",
    "        errorRates.append(toAdd)\n",
    "    return errorRates"
   ]
  },
  {
   "cell_type": "code",
   "execution_count": null,
   "metadata": {},
   "outputs": [],
   "source": [
    "piano3_errs_3 = get_tolerances(piano3_fullmix_3_errors, np.arange(0,1,1/1000))\n",
    "violin3_errs_3 = get_tolerances(violin3_fullmix_3_errors, np.arange(0,1,1/1000))\n",
    "cello3_errs_3 = get_tolerances(cello3_fullmix_3_errors, np.arange(0,1,1/1000))\n",
    "piano3_errs_4 = get_tolerances(piano3_fullmix_4_errors, np.arange(0,1,1/1000))\n",
    "violin3_errs_4 = get_tolerances(violin3_fullmix_4_errors, np.arange(0,1,1/1000))\n",
    "cello3_errs_4 = get_tolerances(cello3_fullmix_4_errors, np.arange(0,1,1/1000))\n",
    "\n",
    "piano4_errs_3 = get_tolerances(piano4_fullmix_3_errors, np.arange(0,1,1/1000))\n",
    "violin4_errs_3 = get_tolerances(violin4_fullmix_3_errors, np.arange(0,1,1/1000))\n",
    "cello4_errs_3 = get_tolerances(cello4_fullmix_3_errors, np.arange(0,1,1/1000))\n",
    "piano4_errs_4 = get_tolerances(piano4_fullmix_4_errors, np.arange(0,1,1/1000))\n",
    "violin4_errs_4 = get_tolerances(violin4_fullmix_4_errors, np.arange(0,1,1/1000))\n",
    "cello4_errs_4 = get_tolerances(cello4_fullmix_4_errors, np.arange(0,1,1/1000))\n",
    "\n",
    "fullmix_errs = get_tolerances(fullmixes_errors, np.arange(0,1,1/1000))"
   ]
  },
  {
   "cell_type": "code",
   "execution_count": null,
   "metadata": {},
   "outputs": [],
   "source": [
    "np.save('./DTW-Chroma/tolerances/piano/piano3_errs_3',piano3_errs_3)\n",
    "np.save('./DTW-Chroma/tolerances/violin/violin3_errs_3',violin3_errs_3)\n",
    "np.save('./DTW-Chroma/tolerances/cello/cello3_errs_3',cello3_errs_3)\n",
    "np.save('./DTW-Chroma/tolerances/piano/piano3_errs_4',piano3_errs_4)\n",
    "np.save('./DTW-Chroma/tolerances/violin/violin3_errs_4',violin3_errs_4)\n",
    "np.save('./DTW-Chroma/tolerances/cello/cello3_errs_4',cello3_errs_4)\n",
    "\n",
    "np.save('./DTW-Chroma/tolerances/piano/piano4_errs_3',piano4_errs_3)\n",
    "np.save('./DTW-Chroma/tolerances/violin/violin4_errs_3',violin4_errs_3)\n",
    "np.save('./DTW-Chroma/tolerances/cello/cello4_errs_3',cello4_errs_3)\n",
    "np.save('./DTW-Chroma/tolerances/piano/piano4_errs_4',piano4_errs_4)\n",
    "np.save('./DTW-Chroma/tolerances/violin/violin4_errs_4',violin4_errs_4)\n",
    "np.save('./DTW-Chroma/tolerances/cello/cello4_errs_4',cello4_errs_4)\n",
    "\n",
    "np.save('./DTW-Chroma/tolerances/fullmix_errs',fullmix_errs)"
   ]
  },
  {
   "cell_type": "code",
   "execution_count": null,
   "metadata": {},
   "outputs": [],
   "source": [
    "piano_errs_1 = np.mean([piano3_errs_3, piano4_errs_3], axis=0)\n",
    "piano_errs_2 = np.mean([piano3_errs_4, piano4_errs_4], axis=0)\n",
    "violin_errs_1 = np.mean([violin3_errs_3, violin4_errs_3], axis=0)\n",
    "violin_errs_2 = np.mean([violin3_errs_4, violin4_errs_4], axis=0)\n",
    "cello_errs_1 = np.mean([cello3_errs_3, cello4_errs_3], axis=0)\n",
    "cello_errs_2 = np.mean([cello3_errs_4, cello4_errs_4], axis=0)"
   ]
  },
  {
   "cell_type": "code",
   "execution_count": null,
   "metadata": {},
   "outputs": [],
   "source": [
    "data = {'piano-fullmix1': piano_errs_1, 'violin-fullmix1': violin_errs_1, 'cello-fullmix1': cello_errs_1, 'piano-fullmix2': piano_errs_2,\n",
    "        'violin-fullmix2': violin_errs_2, 'cello-fullmix2': cello_errs_2, 'fullmix1-fullmix2': fullmix_errs}"
   ]
  },
  {
   "cell_type": "code",
   "execution_count": null,
   "metadata": {},
   "outputs": [],
   "source": [
    "df = pd.DataFrame.from_dict(data)"
   ]
  },
  {
   "cell_type": "code",
   "execution_count": null,
   "metadata": {},
   "outputs": [],
   "source": [
    "df.head()"
   ]
  },
  {
   "cell_type": "code",
   "execution_count": null,
   "metadata": {},
   "outputs": [],
   "source": [
    "plt.figure(figsize = (10,10))\n",
    "sns.set_style(\"whitegrid\")\n",
    "sns.lineplot(data = df, dashes=False)\n",
    "plt.ylabel('Error Rate (%)')\n",
    "plt.xlabel('Tolerance (ms)')\n",
    "plt.title('Error Rate vs. Tolerance - subsequence DTW')"
   ]
  },
  {
   "cell_type": "code",
   "execution_count": null,
   "metadata": {},
   "outputs": [],
   "source": []
  }
 ],
 "metadata": {
  "kernelspec": {
   "display_name": "Python 3 (ipykernel)",
   "language": "python",
   "name": "python3"
  },
  "language_info": {
   "codemirror_mode": {
    "name": "ipython",
    "version": 3
   },
   "file_extension": ".py",
   "mimetype": "text/x-python",
   "name": "python",
   "nbconvert_exporter": "python",
   "pygments_lexer": "ipython3",
   "version": "3.7.13"
  }
 },
 "nbformat": 4,
 "nbformat_minor": 4
}
